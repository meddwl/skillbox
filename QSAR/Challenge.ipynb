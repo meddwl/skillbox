{
 "cells": [
  {
   "cell_type": "markdown",
   "id": "8273b29f",
   "metadata": {},
   "source": [
    "# Challenge\n",
    "\n",
    "Build a machine learning algorithm to predict activities of Cytochrome P450 3A4 hits"
   ]
  },
  {
   "cell_type": "code",
   "execution_count": null,
   "id": "d07cb0e1",
   "metadata": {},
   "outputs": [],
   "source": [
    "import pandas as pd\n",
    "from rdkit import Chem"
   ]
  },
  {
   "cell_type": "code",
   "execution_count": null,
   "id": "bbe19504",
   "metadata": {},
   "outputs": [],
   "source": [
    "df = pd.read_csv('cyp3a4-clean.smi', sep='\\t')\n",
    "mols = [Chem.MolFromSmiles(s) for s in df.smiles.tolist()]"
   ]
  },
  {
   "cell_type": "code",
   "execution_count": null,
   "id": "e034a4f6",
   "metadata": {},
   "outputs": [],
   "source": []
  },
  {
   "cell_type": "code",
   "execution_count": null,
   "id": "67318e93",
   "metadata": {},
   "outputs": [],
   "source": []
  },
  {
   "cell_type": "code",
   "execution_count": null,
   "id": "aebff270",
   "metadata": {},
   "outputs": [],
   "source": []
  }
 ],
 "metadata": {
  "kernelspec": {
   "display_name": "rd22",
   "language": "python",
   "name": "rd22"
  },
  "language_info": {
   "codemirror_mode": {
    "name": "ipython",
    "version": 3
   },
   "file_extension": ".py",
   "mimetype": "text/x-python",
   "name": "python",
   "nbconvert_exporter": "python",
   "pygments_lexer": "ipython3",
   "version": "3.9.13"
  }
 },
 "nbformat": 4,
 "nbformat_minor": 5
}
