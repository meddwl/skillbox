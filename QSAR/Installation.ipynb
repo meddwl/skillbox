{
 "cells": [
  {
   "cell_type": "code",
   "execution_count": null,
   "id": "cb2c57ce",
   "metadata": {},
   "outputs": [],
   "source": [
    "# Installation from a Jupyter Notebook\n",
    "\n",
    "import sys\n",
    "!{sys.executable} -m pip install chembl_webresource_client\n",
    "!{sys.executable} -m pip install scikit-learn\n",
    "!{sys.executable} -m pip install scipy\n",
    "!{sys.executable} -m pip install pmapper\n",
    "!{sys.executable} -m pip install matplotlib\n",
    "!{sys.executable} -m pip install seaborn\n",
    "!{sys.executable} -m pip install functools\n",
    "!{sys.executable} -m pip install mpl_toolkits"
   ]
  },
  {
   "cell_type": "markdown",
   "id": "4f3f6790",
   "metadata": {},
   "source": [
    "Installation from a command line\n",
    "\n",
    "pip install chembl_webresource_client, scikit-learn, scipy, pmapper, matplotlib, seaborn, functools, mpl_toolkits"
   ]
  }
 ],
 "metadata": {
  "kernelspec": {
   "display_name": "rd22",
   "language": "python",
   "name": "rd22"
  },
  "language_info": {
   "codemirror_mode": {
    "name": "ipython",
    "version": 3
   },
   "file_extension": ".py",
   "mimetype": "text/x-python",
   "name": "python",
   "nbconvert_exporter": "python",
   "pygments_lexer": "ipython3",
   "version": "3.9.13"
  }
 },
 "nbformat": 4,
 "nbformat_minor": 5
}
