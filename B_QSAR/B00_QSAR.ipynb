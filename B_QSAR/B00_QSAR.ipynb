{
 "cells": [
  {
   "cell_type": "markdown",
   "id": "74eb720a",
   "metadata": {},
   "source": [
    "<h1>Tutorial on QSAR modeling</h1>\n",
    "Febrary 1, 2023\n",
    "\n",
    "<h3>Mgr. Alina Kutlushina</h3>\n",
    "Ph.D. condidate at IMTM, UPOL, Czech Republic"
   ]
  },
  {
   "cell_type": "markdown",
   "id": "a4a5118c",
   "metadata": {},
   "source": [
    "<h3>The necessary prerequisites for the tutorial</h3>\n",
    "\n",
    "<b>Tools:</b> rdkit, scikit-learn, scipy, matplotlib, seaborn\n",
    "\n",
    "<b>Target protein:</b> Cytochrome P450 3A4\n",
    "\n",
    "<b>Dataset:</b> small molecules with documented activity towards the Cytochrome P450 3A4 enzyme, sourced from the ChEMBL database\n",
    "\n",
    "If you do not have all the necessary Python packages in your environment, there is an [example how to set an enviroment](../Installation.ipynb)"
   ]
  },
  {
   "cell_type": "markdown",
   "id": "cead99f8",
   "metadata": {},
   "source": [
    "<h2>Collecting of a dataset</h2>\n",
    "\n",
    "This step was done in [EDA tutorial](../A_EDA)"
   ]
  },
  {
   "cell_type": "markdown",
   "id": "748f1c66",
   "metadata": {},
   "source": [
    "<h2>Similarity agorithms</h2>\n",
    "\n",
    "There you will learn more about\n",
    "\n",
    "- molecular fingerprints\n",
    "- similarity metrics\n",
    "- how to perform Maximum Common Substructure on Python using RDKit\n",
    "- how to perform Murcko decomposition on Python using RDKit\n",
    "\n",
    "<a href=\"B01_Similarity_Agorithms.ipynb\">Click here to start</a>\n",
    "\n",
    "<h3>References:</h3>\n",
    "\n",
    "- Tutorial about molecular descriptors from Phyo Phyo Kyaw Zin https://drzinph.com/computing-molecular-descriptors-intro/\n",
    "- Holliday JD, Hu CY, Willett P., Grouping of Coefficients for the Calculation of Inter-Molecular Similarity and Dissimilarity using 2D Fragment Bit-Strings (2002), DOI: https://doi.org/10.2174/1386207024607338\n",
    "- Visualizing Chemical Space by Pat Walters http://practicalcheminformatics.blogspot.com/2019/11/visualizing-chemical-space.html\n",
    "- Metrics https://en.wikipedia.org/wiki/Precision_and_recall\n",
    "- Daylight, Fingerprints - Screening and Similarity https://www.daylight.com/dayhtml/doc/theory/theory.finger.html"
   ]
  },
  {
   "cell_type": "markdown",
   "id": "dfbe094a",
   "metadata": {},
   "source": [
    "## Unsupervised Learning\n",
    "\n",
    "There you will learn more about\n",
    "\n",
    "- Dimensionality Reduction\n",
    "- Clustering\n",
    "\n",
    "<a href=\"B02_Unsupervised_Learning.ipynb\">Click here to start</a>\n",
    "\n",
    "\n",
    "### References:\n",
    "\n",
    "- Scikit-learn, clustering https://scikit-learn.org/stable/modules/clustering.html\n",
    "- Scikit-learn, PCA https://scikit-learn.org/stable/modules/generated/sklearn.decomposition.PCA.html\n",
    "- Scikit-learn, t-SNE https://scikit-learn.org/stable/modules/generated/sklearn.manifold.TSNE.html"
   ]
  },
  {
   "cell_type": "markdown",
   "id": "64365838",
   "metadata": {},
   "source": [
    "<h2> Supervised Learning </h2>\n",
    "\n",
    "There you will learn more about\n",
    "\n",
    "- k-fold cross validation\n",
    "- classification algorithms using Scikit-learn\n",
    "- regression algorithms using Scikit-learn\n",
    "\n",
    "<a href=\"B03_Supervised_Learning.ipynb\">Click here to start</a>\n",
    "\n",
    "<h3>References: </h3>\n",
    "\n",
    "- Scikit-learn, supervised learning https://scikit-learn.org/stable/supervised_learning.html#supervised-learning\n",
    "- Scikit-learn, cross Validation https://scikit-learn.org/stable/modules/cross_validation.html#\n",
    "- Scikit-learn, automated Machine Learning (AutoML) https://machinelearningmastery.com/automl-libraries-for-python/"
   ]
  },
  {
   "cell_type": "markdown",
   "id": "11646c71",
   "metadata": {},
   "source": [
    "<h3> Literature: </h3>\n",
    "\n",
    "- RDKit Tutorials by Greg Landrum: https://github.com/rdkit/rdkit-tutorials\n",
    "- Scikit-learn API: https://scikit-learn.org/stable/modules/classes.html\n",
    "- Book \"Python Data Science Handbook\" by Jake VanderPlas"
   ]
  }
 ],
 "metadata": {
  "kernelspec": {
   "display_name": "rd22",
   "language": "python",
   "name": "rd22"
  },
  "language_info": {
   "codemirror_mode": {
    "name": "ipython",
    "version": 3
   },
   "file_extension": ".py",
   "mimetype": "text/x-python",
   "name": "python",
   "nbconvert_exporter": "python",
   "pygments_lexer": "ipython3",
   "version": "3.9.13"
  }
 },
 "nbformat": 4,
 "nbformat_minor": 5
}
