{
 "cells": [
  {
   "cell_type": "markdown",
   "id": "bf3f526a",
   "metadata": {},
   "source": [
    "<h1>Data Analyzing</h1>"
   ]
  },
  {
   "cell_type": "code",
   "execution_count": 2,
   "id": "2552e5f0",
   "metadata": {},
   "outputs": [],
   "source": [
    "import pandas as pd"
   ]
  },
  {
   "cell_type": "code",
   "execution_count": 3,
   "id": "8fefdd71",
   "metadata": {},
   "outputs": [],
   "source": [
    "# read the dataframe from the file\n",
    "df_cyp = pd.read_csv('Cytochrome_P450_3A4-chembl31.csv', sep='\\t')"
   ]
  },
  {
   "cell_type": "code",
   "execution_count": 4,
   "id": "9585fa37",
   "metadata": {},
   "outputs": [
    {
     "data": {
      "text/html": [
       "<div>\n",
       "<style scoped>\n",
       "    .dataframe tbody tr th:only-of-type {\n",
       "        vertical-align: middle;\n",
       "    }\n",
       "\n",
       "    .dataframe tbody tr th {\n",
       "        vertical-align: top;\n",
       "    }\n",
       "\n",
       "    .dataframe thead th {\n",
       "        text-align: right;\n",
       "    }\n",
       "</style>\n",
       "<table border=\"1\" class=\"dataframe\">\n",
       "  <thead>\n",
       "    <tr style=\"text-align: right;\">\n",
       "      <th></th>\n",
       "      <th>assay_description</th>\n",
       "      <th>canonical_smiles</th>\n",
       "      <th>document_journal</th>\n",
       "      <th>document_year</th>\n",
       "      <th>molecule_chembl_id</th>\n",
       "      <th>relation</th>\n",
       "      <th>standard_relation</th>\n",
       "      <th>standard_type</th>\n",
       "      <th>standard_units</th>\n",
       "      <th>standard_value</th>\n",
       "      <th>type</th>\n",
       "      <th>units</th>\n",
       "      <th>value</th>\n",
       "    </tr>\n",
       "  </thead>\n",
       "  <tbody>\n",
       "    <tr>\n",
       "      <th>0</th>\n",
       "      <td>Inhibition of cytochrome P450 3A4 of isolated ...</td>\n",
       "      <td>Cc1nc2cc(OC[C@H](O)CN3CCN(CC(=O)Nc4cccc(-c5ccc...</td>\n",
       "      <td>Bioorg. Med. Chem. Lett.</td>\n",
       "      <td>2004.0</td>\n",
       "      <td>CHEMBL152968</td>\n",
       "      <td>=</td>\n",
       "      <td>=</td>\n",
       "      <td>IC50</td>\n",
       "      <td>nM</td>\n",
       "      <td>37000.0</td>\n",
       "      <td>IC50</td>\n",
       "      <td>uM</td>\n",
       "      <td>37.0</td>\n",
       "    </tr>\n",
       "    <tr>\n",
       "      <th>1</th>\n",
       "      <td>Inhibition of human cytochrome P450 3A4 as tot...</td>\n",
       "      <td>COc1ccc(NS(=O)(=O)c2ccc(Br)cc2)cc1N1CCN(C)CC1</td>\n",
       "      <td>J. Med. Chem.</td>\n",
       "      <td>1999.0</td>\n",
       "      <td>CHEMBL292759</td>\n",
       "      <td>=</td>\n",
       "      <td>=</td>\n",
       "      <td>IC50</td>\n",
       "      <td>nM</td>\n",
       "      <td>6000.0</td>\n",
       "      <td>IC50</td>\n",
       "      <td>uM</td>\n",
       "      <td>6.0</td>\n",
       "    </tr>\n",
       "    <tr>\n",
       "      <th>2</th>\n",
       "      <td>Inhibition of cytochrome P450 3A4 of isolated ...</td>\n",
       "      <td>Cc1nc2cc(OC[C@H](O)CN3CCN(CC(=O)Nc4ccc(-c5cccc...</td>\n",
       "      <td>Bioorg. Med. Chem. Lett.</td>\n",
       "      <td>2004.0</td>\n",
       "      <td>CHEMBL153741</td>\n",
       "      <td>=</td>\n",
       "      <td>=</td>\n",
       "      <td>IC50</td>\n",
       "      <td>nM</td>\n",
       "      <td>7900.0</td>\n",
       "      <td>IC50</td>\n",
       "      <td>uM</td>\n",
       "      <td>7.9</td>\n",
       "    </tr>\n",
       "  </tbody>\n",
       "</table>\n",
       "</div>"
      ],
      "text/plain": [
       "                                   assay_description  \\\n",
       "0  Inhibition of cytochrome P450 3A4 of isolated ...   \n",
       "1  Inhibition of human cytochrome P450 3A4 as tot...   \n",
       "2  Inhibition of cytochrome P450 3A4 of isolated ...   \n",
       "\n",
       "                                    canonical_smiles  \\\n",
       "0  Cc1nc2cc(OC[C@H](O)CN3CCN(CC(=O)Nc4cccc(-c5ccc...   \n",
       "1      COc1ccc(NS(=O)(=O)c2ccc(Br)cc2)cc1N1CCN(C)CC1   \n",
       "2  Cc1nc2cc(OC[C@H](O)CN3CCN(CC(=O)Nc4ccc(-c5cccc...   \n",
       "\n",
       "           document_journal  document_year molecule_chembl_id relation  \\\n",
       "0  Bioorg. Med. Chem. Lett.         2004.0       CHEMBL152968        =   \n",
       "1             J. Med. Chem.         1999.0       CHEMBL292759        =   \n",
       "2  Bioorg. Med. Chem. Lett.         2004.0       CHEMBL153741        =   \n",
       "\n",
       "  standard_relation standard_type standard_units  standard_value  type units  \\\n",
       "0                 =          IC50             nM         37000.0  IC50    uM   \n",
       "1                 =          IC50             nM          6000.0  IC50    uM   \n",
       "2                 =          IC50             nM          7900.0  IC50    uM   \n",
       "\n",
       "   value  \n",
       "0   37.0  \n",
       "1    6.0  \n",
       "2    7.9  "
      ]
     },
     "execution_count": 4,
     "metadata": {},
     "output_type": "execute_result"
    }
   ],
   "source": [
    "# Let's take a look at the structure of the dataset\n",
    "df_cyp.head(3)"
   ]
  },
  {
   "cell_type": "code",
   "execution_count": 5,
   "id": "86c8498a",
   "metadata": {},
   "outputs": [
    {
     "name": "stdout",
     "output_type": "stream",
     "text": [
      "The size of the dataset (10290, 13)\n"
     ]
    }
   ],
   "source": [
    "print('The size of the dataset', df_cyp.shape)"
   ]
  },
  {
   "cell_type": "code",
   "execution_count": 6,
   "id": "f7c8cde7",
   "metadata": {},
   "outputs": [
    {
     "data": {
      "text/plain": [
       "count    10055.000000\n",
       "mean      2013.067429\n",
       "std          4.324263\n",
       "min       1992.000000\n",
       "25%       2010.000000\n",
       "50%       2013.000000\n",
       "75%       2016.000000\n",
       "max       2021.000000\n",
       "Name: document_year, dtype: float64"
      ]
     },
     "execution_count": 6,
     "metadata": {},
     "output_type": "execute_result"
    }
   ],
   "source": [
    "# You can use describe() to see a statistics of a column\n",
    "# Statistics of the years when the analysis was carried out\n",
    "df_cyp['document_year'].describe()"
   ]
  },
  {
   "cell_type": "code",
   "execution_count": 7,
   "id": "220886a5",
   "metadata": {},
   "outputs": [
    {
     "data": {
      "text/plain": [
       "assay_description        0\n",
       "canonical_smiles         0\n",
       "document_journal      1298\n",
       "document_year          235\n",
       "molecule_chembl_id       0\n",
       "relation                25\n",
       "standard_relation       25\n",
       "standard_type            0\n",
       "standard_units           0\n",
       "standard_value          35\n",
       "type                     0\n",
       "units                  188\n",
       "value                   35\n",
       "dtype: int64"
      ]
     },
     "execution_count": 7,
     "metadata": {},
     "output_type": "execute_result"
    }
   ],
   "source": [
    "# Number of missed cells in each column\n",
    "df_cyp.isnull().sum()"
   ]
  },
  {
   "cell_type": "code",
   "execution_count": 8,
   "id": "aa535ec3",
   "metadata": {},
   "outputs": [
    {
     "data": {
      "text/plain": [
       "1909"
      ]
     },
     "execution_count": 8,
     "metadata": {},
     "output_type": "execute_result"
    }
   ],
   "source": [
    "# The number of duplicates\n",
    "df_cyp['canonical_smiles'].duplicated().sum()"
   ]
  },
  {
   "cell_type": "code",
   "execution_count": 9,
   "id": "6372760a",
   "metadata": {},
   "outputs": [
    {
     "data": {
      "text/plain": [
       "10290"
      ]
     },
     "execution_count": 9,
     "metadata": {},
     "output_type": "execute_result"
    }
   ],
   "source": [
    "# The number of mixtures\n",
    "df_cyp['canonical_smiles'].str.contains('.').sum()"
   ]
  },
  {
   "cell_type": "code",
   "execution_count": 10,
   "id": "426be10d",
   "metadata": {},
   "outputs": [
    {
     "data": {
      "text/plain": [
       "{'EC50', 'IC50', 'Kd', 'Ki'}"
      ]
     },
     "execution_count": 10,
     "metadata": {},
     "output_type": "execute_result"
    }
   ],
   "source": [
    "# Types of measures of a drug's efficacy\n",
    "set(df_cyp['standard_type'])"
   ]
  },
  {
   "cell_type": "code",
   "execution_count": 11,
   "id": "4404bcad",
   "metadata": {},
   "outputs": [
    {
     "data": {
      "text/plain": [
       "{'nM'}"
      ]
     },
     "execution_count": 11,
     "metadata": {},
     "output_type": "execute_result"
    }
   ],
   "source": [
    "# Types of units of measurement\n",
    "set(df_cyp['standard_units'])"
   ]
  },
  {
   "cell_type": "code",
   "execution_count": 12,
   "id": "342156bc",
   "metadata": {},
   "outputs": [
    {
     "data": {
      "text/plain": [
       "{'<', '<=', '=', '>', '>=', nan}"
      ]
     },
     "execution_count": 12,
     "metadata": {},
     "output_type": "execute_result"
    }
   ],
   "source": [
    "# Types of standart relation\n",
    "set(df_cyp['standard_relation'])"
   ]
  },
  {
   "cell_type": "markdown",
   "id": "7bb888c3",
   "metadata": {},
   "source": [
    "<hr>\n",
    "\n",
    "<h2>Task 2</h2>\n",
    "\n",
    "Give a description of the chemical data that we collected from ChEMBL"
   ]
  },
  {
   "cell_type": "markdown",
   "id": "b54f6e41",
   "metadata": {},
   "source": [
    "1. ...\n",
    "2. ..."
   ]
  },
  {
   "cell_type": "markdown",
   "id": "21cd8c71",
   "metadata": {},
   "source": [
    "<h2>Task 3</h2>\n",
    "\n",
    "What pipeline of data preprocessing will you suggest?"
   ]
  },
  {
   "cell_type": "markdown",
   "id": "497fe647",
   "metadata": {},
   "source": [
    "1. ...\n",
    "2. ..."
   ]
  },
  {
   "cell_type": "markdown",
   "id": "81c7f308",
   "metadata": {},
   "source": [
    "<a href=\"A05_EDA_and_Data_Collection_Solution.ipynb\">Click for our solution</a>"
   ]
  }
 ],
 "metadata": {
  "kernelspec": {
   "display_name": "rd22",
   "language": "python",
   "name": "rd22"
  },
  "language_info": {
   "codemirror_mode": {
    "name": "ipython",
    "version": 3
   },
   "file_extension": ".py",
   "mimetype": "text/x-python",
   "name": "python",
   "nbconvert_exporter": "python",
   "pygments_lexer": "ipython3",
   "version": "3.9.13"
  }
 },
 "nbformat": 4,
 "nbformat_minor": 5
}
