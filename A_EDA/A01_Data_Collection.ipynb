{
 "cells": [
  {
   "cell_type": "markdown",
   "id": "da2549d1",
   "metadata": {},
   "source": [
    "<h1>Dataset Collection from ChEMBL</h1>\n",
    "\n",
    "<hr>\n",
    "\n",
    "You can import the python libraries using the following command:"
   ]
  },
  {
   "cell_type": "code",
   "execution_count": 1,
   "id": "98025ff3",
   "metadata": {},
   "outputs": [],
   "source": [
    "import pandas as pd\n",
    "from chembl_webresource_client.new_client import new_client # to download a molecule dataset from ChEMBL"
   ]
  },
  {
   "cell_type": "markdown",
   "id": "9e25d40d",
   "metadata": {},
   "source": [
    "We will collect chemical data from ChEMBL dataset using [the official Python ChEMBL webresource client library](https://github.com/chembl/chembl_webresource_client) which is supported by ChEMBL group. The design of the client is based on Django QuerySet. Click on the link to learn more about the [ChEMBL database schema](https://ftp.ebi.ac.uk/pub/databases/chembl/ChEMBLdb/latest/) to undestand what information you need to download.\n",
    "\n",
    "To gather small molecules dataset, first you need to download all ChEMBL IDs of interested protein targets. Together with protein ids we will collect information about target organism and target name."
   ]
  },
  {
   "cell_type": "code",
   "execution_count": 2,
   "id": "f0762beb",
   "metadata": {},
   "outputs": [],
   "source": [
    "# gether protein chembl id of interested target from ChEMBL\n",
    "def download_targetid_chembl(taget_name):\n",
    "    target = new_client.target\n",
    "\n",
    "    cyp = target.filter(pref_name__iexact=taget_name).only(\n",
    "    ['target_chembl_id', 'target_organism', 'target_pref_name'])\n",
    "    \n",
    "    return cyp"
   ]
  },
  {
   "cell_type": "markdown",
   "id": "62269ef5",
   "metadata": {},
   "source": [
    "The download_mols_chembl() function will give a set of assays which have been measured 'IC50', 'EC50', 'Ki', 'Kd' and have standart units 'mM', 'nm', 'nM', 'uM' by target chembl id."
   ]
  },
  {
   "cell_type": "code",
   "execution_count": 3,
   "id": "a2ab9be2",
   "metadata": {},
   "outputs": [],
   "source": [
    "def download_mols_chembl(t):\n",
    "    activity = new_client.activity\n",
    "    \n",
    "    # here we specify by which parameters we will filter compounds\n",
    "    mols = activity.filter(target_chembl_id=t['target_chembl_id'], \n",
    "                           standard_type__in=['IC50', 'EC50', 'Ki', 'Kd'],\n",
    "                           standard_units__in=['mM', 'nm', 'nM', 'uM']\n",
    "                          ).only(\n",
    "    \n",
    "    # list of columns which we will extract\n",
    "    [\n",
    "        'molecule_chembl_id', \n",
    "        'standard_type', 'standard_relation', 'standard_value', 'standard_units', \n",
    "        'canonical_smiles',\n",
    "        'assay_description', \n",
    "        'document_journal', 'document_year'\n",
    "    ])\n",
    "    \n",
    "    return mols"
   ]
  },
  {
   "cell_type": "markdown",
   "id": "e35d3bfe",
   "metadata": {},
   "source": [
    "It is convenient to work with data in a data frame format. Therefore, we need to convert the data downloaded from ChEMBL into a data frame format. To work with datat we will use pandas. <b>Pandas</b> is easy to use open source data analysis and manipulation tool, built on top of the Python programming language.\n",
    "\n",
    "It is possible to convert data to the pandas format with the following command\n",
    "<i>df = pd.DataFrame(data=mols)</i>\n",
    ", but it is a long time. \n",
    "Therefore, it is proposed to divide the data into parts, convert and combine the parts into one dataframe.\n",
    "\n",
    "queryset2df() converts input data from the QuerySet format to Pandas dataframe."
   ]
  },
  {
   "cell_type": "code",
   "execution_count": 4,
   "id": "2cf68070",
   "metadata": {},
   "outputs": [],
   "source": [
    "def queryset2df(mols):\n",
    "    i = 0\n",
    "    j = 10000\n",
    "    df = pd.DataFrame()\n",
    "    mols = list(mols)\n",
    "    while j <= len(mols):\n",
    "        dft = pd.DataFrame(mols[i:j])\n",
    "        df = pd.concat([df, dft])\n",
    "        i = j\n",
    "        j = j + 10000\n",
    "\n",
    "    dft = pd.DataFrame(mols[i:])\n",
    "    df = pd.concat([df, dft], sort=False)\n",
    "    return df"
   ]
  },
  {
   "cell_type": "markdown",
   "id": "d8d2f508",
   "metadata": {},
   "source": [
    "<h2>Extracting with documented activities against Cytochrome P450 3A4 from ChEMBL</h2>\n",
    "\n",
    "<hr>"
   ]
  },
  {
   "cell_type": "code",
   "execution_count": 5,
   "id": "401672e2",
   "metadata": {},
   "outputs": [],
   "source": [
    "# We will extract ChEMBL target id by the target-protein name using download_targetid_chembl()\n",
    "trg_cyp = download_targetid_chembl('Cytochrome P450 3A4')"
   ]
  },
  {
   "cell_type": "code",
   "execution_count": 6,
   "id": "1b2d0f93",
   "metadata": {},
   "outputs": [
    {
     "name": "stdout",
     "output_type": "stream",
     "text": [
      "{'organism': 'Homo sapiens', 'pref_name': 'Cytochrome P450 3A4', 'target_chembl_id': 'CHEMBL340'}\n"
     ]
    }
   ],
   "source": [
    "# print the reults\n",
    "for el in trg_cyp:\n",
    "    print(el)"
   ]
  },
  {
   "cell_type": "markdown",
   "id": "9788a7f2",
   "metadata": {},
   "source": [
    "We extracted one protein target id of Cytochrome P450 3A4 from ChEMBL. This protein structure belongs to the <i>Homo sapiens</i> organism."
   ]
  },
  {
   "cell_type": "code",
   "execution_count": 7,
   "id": "249f4872",
   "metadata": {},
   "outputs": [],
   "source": [
    "# download compounds with known activities to CYP 3A4\n",
    "mols_cyp = download_mols_chembl(trg_cyp[0])"
   ]
  },
  {
   "cell_type": "code",
   "execution_count": 8,
   "id": "bfd9aab6",
   "metadata": {},
   "outputs": [
    {
     "name": "stdout",
     "output_type": "stream",
     "text": [
      "10290 compounds with documented activities to CYP 3A4\n"
     ]
    }
   ],
   "source": [
    "print(len(mols_cyp), 'compounds with documented activities to CYP 3A4')"
   ]
  },
  {
   "cell_type": "code",
   "execution_count": 9,
   "id": "8ac92668",
   "metadata": {},
   "outputs": [
    {
     "data": {
      "text/plain": [
       "{'assay_description': 'Inhibition of cytochrome P450 3A4 of isolated guinea pig heart',\n",
       " 'canonical_smiles': 'Cc1nc2cc(OC[C@H](O)CN3CCN(CC(=O)Nc4cccc(-c5ccccc5)c4)CC3)ccc2s1',\n",
       " 'document_journal': 'Bioorg. Med. Chem. Lett.',\n",
       " 'document_year': 2004,\n",
       " 'molecule_chembl_id': 'CHEMBL152968',\n",
       " 'relation': '=',\n",
       " 'standard_relation': '=',\n",
       " 'standard_type': 'IC50',\n",
       " 'standard_units': 'nM',\n",
       " 'standard_value': '37000.0',\n",
       " 'type': 'IC50',\n",
       " 'units': 'uM',\n",
       " 'value': '37.0'}"
      ]
     },
     "execution_count": 9,
     "metadata": {},
     "output_type": "execute_result"
    }
   ],
   "source": [
    "# Let's take a look at downloaded data on an example of one molecule\n",
    "mols_cyp[0]"
   ]
  },
  {
   "cell_type": "code",
   "execution_count": 10,
   "id": "666dc5aa",
   "metadata": {},
   "outputs": [
    {
     "name": "stdout",
     "output_type": "stream",
     "text": [
      "CPU times: user 865 ms, sys: 85.4 ms, total: 950 ms\n",
      "Wall time: 1.27 s\n"
     ]
    }
   ],
   "source": [
    "# Let's convert data into pandas dataframe format\n",
    "%time df_cyp = queryset2df(mols_cyp)"
   ]
  },
  {
   "cell_type": "code",
   "execution_count": 11,
   "id": "e839e6ae",
   "metadata": {},
   "outputs": [],
   "source": [
    "# Running the code below you can save the collected data\n",
    "df_cyp.to_csv('Cytochrome_P450_3A4-chembl31.csv', sep='\\t')"
   ]
  },
  {
   "cell_type": "markdown",
   "id": "e7d02c43",
   "metadata": {},
   "source": [
    "<h2>Task 1</h2>\n",
    "\n",
    "<hr>\n",
    "\n",
    "57 CYP isoforms have been documented in humans. How many CYP protein structures are available in ChEMBL?"
   ]
  },
  {
   "cell_type": "code",
   "execution_count": null,
   "id": "f7c9749e",
   "metadata": {},
   "outputs": [],
   "source": [
    "import pandas as pd\n",
    "from chembl_webresource_client.new_client import new_client\n",
    "\n",
    "#\n",
    "# Your solution here\n",
    "#"
   ]
  },
  {
   "cell_type": "markdown",
   "id": "422e2cc4",
   "metadata": {},
   "source": [
    "<i>Hint</i>: to solve Task 1 you need to read more about ChEMBL webresource client\n",
    "\n",
    "<a href=\"A02_Data_Collection_Solution.ipynb\">Click for our solution</a>"
   ]
  }
 ],
 "metadata": {
  "kernelspec": {
   "display_name": "rd22",
   "language": "python",
   "name": "rd22"
  },
  "language_info": {
   "codemirror_mode": {
    "name": "ipython",
    "version": 3
   },
   "file_extension": ".py",
   "mimetype": "text/x-python",
   "name": "python",
   "nbconvert_exporter": "python",
   "pygments_lexer": "ipython3",
   "version": "3.9.13"
  }
 },
 "nbformat": 4,
 "nbformat_minor": 5
}
