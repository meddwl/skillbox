{
 "cells": [
  {
   "cell_type": "markdown",
   "id": "8dc0037f",
   "metadata": {},
   "source": [
    "<h2>Task 2</h2>\n",
    "\n",
    "Give a description of the chemical data that we collected from ChEMBL"
   ]
  },
  {
   "cell_type": "markdown",
   "id": "f953422d",
   "metadata": {},
   "source": [
    "We downloaded a dataset of molecules with known activities against CYP 3A4 which contains information of ChEMBL molecule ids, SMILES, standard_type (type of made bioactivity measures), standard_units (metric system), standard_value (bioactivity values), standard_relation (bioactivity of a molecule can be more, less then bioactivity value, equal and the others)\n",
    "\n",
    "1. There are 10290 compounds in the dataframe\n",
    "2. There 25 rows with missing standard_relation and 35 rows with missing standard_value\n",
    "3. There are 1909 duplicats among molecule structuures\n",
    "4. All molecules are mixtures\n",
    "5. They measured {'EC50', 'IC50', 'Kd', 'Ki'} of the molecules to evaluate their inhibition activity to CYP 3A4\n",
    "6. In this case all molecules have bioactivity values in nM\n",
    "7. standard_relation of molecules variated {'<', '<=', '=', '>', '>=', nan}"
   ]
  },
  {
   "cell_type": "markdown",
   "id": "95de3f3c",
   "metadata": {},
   "source": [
    "<h2>Task 3</h2>\n",
    "\n",
    "What pipeline of data preprocessing will you suggest?"
   ]
  },
  {
   "cell_type": "markdown",
   "id": "a94e6aa5",
   "metadata": {},
   "source": [
    "1. We cannot work with molecules which do not have information of standard_relation and standard_value. These rows should be removed\n",
    "2. "
   ]
  },
  {
   "cell_type": "markdown",
   "id": "9cfd5f01",
   "metadata": {},
   "source": []
  },
  {
   "cell_type": "markdown",
   "id": "8650265c",
   "metadata": {},
   "source": []
  },
  {
   "cell_type": "markdown",
   "id": "c934723c",
   "metadata": {},
   "source": []
  },
  {
   "cell_type": "markdown",
   "id": "0448e9e1",
   "metadata": {},
   "source": []
  }
 ],
 "metadata": {
  "kernelspec": {
   "display_name": "rd22",
   "language": "python",
   "name": "rd22"
  },
  "language_info": {
   "codemirror_mode": {
    "name": "ipython",
    "version": 3
   },
   "file_extension": ".py",
   "mimetype": "text/x-python",
   "name": "python",
   "nbconvert_exporter": "python",
   "pygments_lexer": "ipython3",
   "version": "3.9.13"
  }
 },
 "nbformat": 4,
 "nbformat_minor": 5
}
